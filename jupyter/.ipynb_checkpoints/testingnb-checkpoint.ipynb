{
 "cells": [
  {
   "cell_type": "code",
   "execution_count": 1,
   "metadata": {},
   "outputs": [],
   "source": [
    "import sys\n",
    "import numpy as np\n",
    "import astropy.io.fits as fits\n",
    "import matplotlib.pyplot as plt\n",
    "import copy\n",
    "sys.path.insert(0, '/home/ryan/projects/CHARMKASTR/py/')\n",
    "from median import median\n",
    "from create_mask import create_mask\n",
    "from normalize_flat import normalize_flat\n",
    "from bias_subtract import bias_subtract\n",
    "from variance_image import variance_image"
   ]
  },
  {
   "cell_type": "code",
   "execution_count": 2,
   "metadata": {},
   "outputs": [],
   "source": [
    "run floader.py"
   ]
  },
  {
   "cell_type": "code",
   "execution_count": 3,
   "metadata": {},
   "outputs": [],
   "source": [
    "b = median(BIAS)"
   ]
  },
  {
   "cell_type": "code",
   "execution_count": 4,
   "metadata": {},
   "outputs": [],
   "source": [
    "f = median(FLAT)"
   ]
  },
  {
   "cell_type": "code",
   "execution_count": 5,
   "metadata": {},
   "outputs": [],
   "source": [
    "m = create_mask(f,b)"
   ]
  },
  {
   "cell_type": "code",
   "execution_count": 6,
   "metadata": {},
   "outputs": [],
   "source": [
    "hdu = fits.PrimaryHDU(m)\n",
    "hdul = fits.HDUList([hdu])\n",
    "hdul.writeto('/home/ryan/projects/CHARMKASTR/test_fits/MedianMask.fits')"
   ]
  },
  {
   "cell_type": "code",
   "execution_count": 6,
   "metadata": {},
   "outputs": [],
   "source": [
    "nf = normalize_flat(f,m)"
   ]
  },
  {
   "cell_type": "code",
   "execution_count": 7,
   "metadata": {
    "collapsed": true
   },
   "outputs": [
    {
     "ename": "OSError",
     "evalue": "File '/home/ryan/projects/CHARMKASTR/test_fits/MedianNormFlat.fits' already exists.",
     "output_type": "error",
     "traceback": [
      "\u001b[0;31m---------------------------------------------------------------------------\u001b[0m",
      "\u001b[0;31mOSError\u001b[0m                                   Traceback (most recent call last)",
      "\u001b[0;32m<ipython-input-7-197bc796a50d>\u001b[0m in \u001b[0;36m<module>\u001b[0;34m\u001b[0m\n\u001b[1;32m      1\u001b[0m \u001b[0mhdu\u001b[0m \u001b[0;34m=\u001b[0m \u001b[0mfits\u001b[0m\u001b[0;34m.\u001b[0m\u001b[0mPrimaryHDU\u001b[0m\u001b[0;34m(\u001b[0m\u001b[0mnf\u001b[0m\u001b[0;34m)\u001b[0m\u001b[0;34m\u001b[0m\u001b[0m\n\u001b[1;32m      2\u001b[0m \u001b[0mhdul\u001b[0m \u001b[0;34m=\u001b[0m \u001b[0mfits\u001b[0m\u001b[0;34m.\u001b[0m\u001b[0mHDUList\u001b[0m\u001b[0;34m(\u001b[0m\u001b[0;34m[\u001b[0m\u001b[0mhdu\u001b[0m\u001b[0;34m]\u001b[0m\u001b[0;34m)\u001b[0m\u001b[0;34m\u001b[0m\u001b[0m\n\u001b[0;32m----> 3\u001b[0;31m \u001b[0mhdul\u001b[0m\u001b[0;34m.\u001b[0m\u001b[0mwriteto\u001b[0m\u001b[0;34m(\u001b[0m\u001b[0;34m'/home/ryan/projects/CHARMKASTR/test_fits/MedianNormFlat.fits'\u001b[0m\u001b[0;34m)\u001b[0m\u001b[0;34m\u001b[0m\u001b[0m\n\u001b[0m",
      "\u001b[0;32m~/anaconda3/lib/python3.6/site-packages/astropy/utils/decorators.py\u001b[0m in \u001b[0;36mwrapper\u001b[0;34m(*args, **kwargs)\u001b[0m\n\u001b[1;32m    486\u001b[0m                         \u001b[0;31m# one with the name of the new argument to the function\u001b[0m\u001b[0;34m\u001b[0m\u001b[0;34m\u001b[0m\u001b[0m\n\u001b[1;32m    487\u001b[0m                         \u001b[0mkwargs\u001b[0m\u001b[0;34m[\u001b[0m\u001b[0mnew_name\u001b[0m\u001b[0;34m[\u001b[0m\u001b[0mi\u001b[0m\u001b[0;34m]\u001b[0m\u001b[0;34m]\u001b[0m \u001b[0;34m=\u001b[0m \u001b[0mvalue\u001b[0m\u001b[0;34m\u001b[0m\u001b[0m\n\u001b[0;32m--> 488\u001b[0;31m             \u001b[0;32mreturn\u001b[0m \u001b[0mfunction\u001b[0m\u001b[0;34m(\u001b[0m\u001b[0;34m*\u001b[0m\u001b[0margs\u001b[0m\u001b[0;34m,\u001b[0m \u001b[0;34m**\u001b[0m\u001b[0mkwargs\u001b[0m\u001b[0;34m)\u001b[0m\u001b[0;34m\u001b[0m\u001b[0m\n\u001b[0m\u001b[1;32m    489\u001b[0m \u001b[0;34m\u001b[0m\u001b[0m\n\u001b[1;32m    490\u001b[0m         \u001b[0;32mreturn\u001b[0m \u001b[0mwrapper\u001b[0m\u001b[0;34m\u001b[0m\u001b[0m\n",
      "\u001b[0;32m~/anaconda3/lib/python3.6/site-packages/astropy/io/fits/hdu/hdulist.py\u001b[0m in \u001b[0;36mwriteto\u001b[0;34m(self, fileobj, output_verify, overwrite, checksum)\u001b[0m\n\u001b[1;32m    871\u001b[0m         \u001b[0;31m# file object that's open to write only, or in append/update modes\u001b[0m\u001b[0;34m\u001b[0m\u001b[0;34m\u001b[0m\u001b[0m\n\u001b[1;32m    872\u001b[0m         \u001b[0;31m# but only if the file doesn't exist.\u001b[0m\u001b[0;34m\u001b[0m\u001b[0;34m\u001b[0m\u001b[0m\n\u001b[0;32m--> 873\u001b[0;31m         \u001b[0mfileobj\u001b[0m \u001b[0;34m=\u001b[0m \u001b[0m_File\u001b[0m\u001b[0;34m(\u001b[0m\u001b[0mfileobj\u001b[0m\u001b[0;34m,\u001b[0m \u001b[0mmode\u001b[0m\u001b[0;34m=\u001b[0m\u001b[0;34m'ostream'\u001b[0m\u001b[0;34m,\u001b[0m \u001b[0moverwrite\u001b[0m\u001b[0;34m=\u001b[0m\u001b[0moverwrite\u001b[0m\u001b[0;34m)\u001b[0m\u001b[0;34m\u001b[0m\u001b[0m\n\u001b[0m\u001b[1;32m    874\u001b[0m         \u001b[0mhdulist\u001b[0m \u001b[0;34m=\u001b[0m \u001b[0mself\u001b[0m\u001b[0;34m.\u001b[0m\u001b[0mfromfile\u001b[0m\u001b[0;34m(\u001b[0m\u001b[0mfileobj\u001b[0m\u001b[0;34m)\u001b[0m\u001b[0;34m\u001b[0m\u001b[0m\n\u001b[1;32m    875\u001b[0m         \u001b[0;32mtry\u001b[0m\u001b[0;34m:\u001b[0m\u001b[0;34m\u001b[0m\u001b[0m\n",
      "\u001b[0;32m~/anaconda3/lib/python3.6/site-packages/astropy/utils/decorators.py\u001b[0m in \u001b[0;36mwrapper\u001b[0;34m(*args, **kwargs)\u001b[0m\n\u001b[1;32m    486\u001b[0m                         \u001b[0;31m# one with the name of the new argument to the function\u001b[0m\u001b[0;34m\u001b[0m\u001b[0;34m\u001b[0m\u001b[0m\n\u001b[1;32m    487\u001b[0m                         \u001b[0mkwargs\u001b[0m\u001b[0;34m[\u001b[0m\u001b[0mnew_name\u001b[0m\u001b[0;34m[\u001b[0m\u001b[0mi\u001b[0m\u001b[0;34m]\u001b[0m\u001b[0;34m]\u001b[0m \u001b[0;34m=\u001b[0m \u001b[0mvalue\u001b[0m\u001b[0;34m\u001b[0m\u001b[0m\n\u001b[0;32m--> 488\u001b[0;31m             \u001b[0;32mreturn\u001b[0m \u001b[0mfunction\u001b[0m\u001b[0;34m(\u001b[0m\u001b[0;34m*\u001b[0m\u001b[0margs\u001b[0m\u001b[0;34m,\u001b[0m \u001b[0;34m**\u001b[0m\u001b[0mkwargs\u001b[0m\u001b[0;34m)\u001b[0m\u001b[0;34m\u001b[0m\u001b[0m\n\u001b[0m\u001b[1;32m    489\u001b[0m \u001b[0;34m\u001b[0m\u001b[0m\n\u001b[1;32m    490\u001b[0m         \u001b[0;32mreturn\u001b[0m \u001b[0mwrapper\u001b[0m\u001b[0;34m\u001b[0m\u001b[0m\n",
      "\u001b[0;32m~/anaconda3/lib/python3.6/site-packages/astropy/io/fits/file.py\u001b[0m in \u001b[0;36m__init__\u001b[0;34m(self, fileobj, mode, memmap, overwrite, cache)\u001b[0m\n\u001b[1;32m    173\u001b[0m             \u001b[0mself\u001b[0m\u001b[0;34m.\u001b[0m\u001b[0m_open_fileobj\u001b[0m\u001b[0;34m(\u001b[0m\u001b[0mfileobj\u001b[0m\u001b[0;34m,\u001b[0m \u001b[0mmode\u001b[0m\u001b[0;34m,\u001b[0m \u001b[0moverwrite\u001b[0m\u001b[0;34m)\u001b[0m\u001b[0;34m\u001b[0m\u001b[0m\n\u001b[1;32m    174\u001b[0m         \u001b[0;32melif\u001b[0m \u001b[0misinstance\u001b[0m\u001b[0;34m(\u001b[0m\u001b[0mfileobj\u001b[0m\u001b[0;34m,\u001b[0m \u001b[0mstr\u001b[0m\u001b[0;34m)\u001b[0m\u001b[0;34m:\u001b[0m\u001b[0;34m\u001b[0m\u001b[0m\n\u001b[0;32m--> 175\u001b[0;31m             \u001b[0mself\u001b[0m\u001b[0;34m.\u001b[0m\u001b[0m_open_filename\u001b[0m\u001b[0;34m(\u001b[0m\u001b[0mfileobj\u001b[0m\u001b[0;34m,\u001b[0m \u001b[0mmode\u001b[0m\u001b[0;34m,\u001b[0m \u001b[0moverwrite\u001b[0m\u001b[0;34m)\u001b[0m\u001b[0;34m\u001b[0m\u001b[0m\n\u001b[0m\u001b[1;32m    176\u001b[0m         \u001b[0;32melse\u001b[0m\u001b[0;34m:\u001b[0m\u001b[0;34m\u001b[0m\u001b[0m\n\u001b[1;32m    177\u001b[0m             \u001b[0mself\u001b[0m\u001b[0;34m.\u001b[0m\u001b[0m_open_filelike\u001b[0m\u001b[0;34m(\u001b[0m\u001b[0mfileobj\u001b[0m\u001b[0;34m,\u001b[0m \u001b[0mmode\u001b[0m\u001b[0;34m,\u001b[0m \u001b[0moverwrite\u001b[0m\u001b[0;34m)\u001b[0m\u001b[0;34m\u001b[0m\u001b[0m\n",
      "\u001b[0;32m~/anaconda3/lib/python3.6/site-packages/astropy/io/fits/file.py\u001b[0m in \u001b[0;36m_open_filename\u001b[0;34m(self, filename, mode, overwrite)\u001b[0m\n\u001b[1;32m    518\u001b[0m \u001b[0;34m\u001b[0m\u001b[0m\n\u001b[1;32m    519\u001b[0m         \u001b[0;32mif\u001b[0m \u001b[0mmode\u001b[0m \u001b[0;34m==\u001b[0m \u001b[0;34m'ostream'\u001b[0m\u001b[0;34m:\u001b[0m\u001b[0;34m\u001b[0m\u001b[0m\n\u001b[0;32m--> 520\u001b[0;31m             \u001b[0mself\u001b[0m\u001b[0;34m.\u001b[0m\u001b[0m_overwrite_existing\u001b[0m\u001b[0;34m(\u001b[0m\u001b[0moverwrite\u001b[0m\u001b[0;34m,\u001b[0m \u001b[0;32mNone\u001b[0m\u001b[0;34m,\u001b[0m \u001b[0;32mTrue\u001b[0m\u001b[0;34m)\u001b[0m\u001b[0;34m\u001b[0m\u001b[0m\n\u001b[0m\u001b[1;32m    521\u001b[0m \u001b[0;34m\u001b[0m\u001b[0m\n\u001b[1;32m    522\u001b[0m         \u001b[0;32mif\u001b[0m \u001b[0mos\u001b[0m\u001b[0;34m.\u001b[0m\u001b[0mpath\u001b[0m\u001b[0;34m.\u001b[0m\u001b[0mexists\u001b[0m\u001b[0;34m(\u001b[0m\u001b[0mself\u001b[0m\u001b[0;34m.\u001b[0m\u001b[0mname\u001b[0m\u001b[0;34m)\u001b[0m\u001b[0;34m:\u001b[0m\u001b[0;34m\u001b[0m\u001b[0m\n",
      "\u001b[0;32m~/anaconda3/lib/python3.6/site-packages/astropy/io/fits/file.py\u001b[0m in \u001b[0;36m_overwrite_existing\u001b[0;34m(self, overwrite, fileobj, closed)\u001b[0m\n\u001b[1;32m    412\u001b[0m                     \u001b[0mos\u001b[0m\u001b[0;34m.\u001b[0m\u001b[0mremove\u001b[0m\u001b[0;34m(\u001b[0m\u001b[0mself\u001b[0m\u001b[0;34m.\u001b[0m\u001b[0mname\u001b[0m\u001b[0;34m)\u001b[0m\u001b[0;34m\u001b[0m\u001b[0m\n\u001b[1;32m    413\u001b[0m             \u001b[0;32melse\u001b[0m\u001b[0;34m:\u001b[0m\u001b[0;34m\u001b[0m\u001b[0m\n\u001b[0;32m--> 414\u001b[0;31m                 \u001b[0;32mraise\u001b[0m \u001b[0mOSError\u001b[0m\u001b[0;34m(\u001b[0m\u001b[0;34m\"File {!r} already exists.\"\u001b[0m\u001b[0;34m.\u001b[0m\u001b[0mformat\u001b[0m\u001b[0;34m(\u001b[0m\u001b[0mself\u001b[0m\u001b[0;34m.\u001b[0m\u001b[0mname\u001b[0m\u001b[0;34m)\u001b[0m\u001b[0;34m)\u001b[0m\u001b[0;34m\u001b[0m\u001b[0m\n\u001b[0m\u001b[1;32m    415\u001b[0m \u001b[0;34m\u001b[0m\u001b[0m\n\u001b[1;32m    416\u001b[0m     \u001b[0;32mdef\u001b[0m \u001b[0m_try_read_compressed\u001b[0m\u001b[0;34m(\u001b[0m\u001b[0mself\u001b[0m\u001b[0;34m,\u001b[0m \u001b[0mobj_or_name\u001b[0m\u001b[0;34m,\u001b[0m \u001b[0mmagic\u001b[0m\u001b[0;34m,\u001b[0m \u001b[0mmode\u001b[0m\u001b[0;34m,\u001b[0m \u001b[0mext\u001b[0m\u001b[0;34m=\u001b[0m\u001b[0;34m''\u001b[0m\u001b[0;34m)\u001b[0m\u001b[0;34m:\u001b[0m\u001b[0;34m\u001b[0m\u001b[0m\n",
      "\u001b[0;31mOSError\u001b[0m: File '/home/ryan/projects/CHARMKASTR/test_fits/MedianNormFlat.fits' already exists."
     ]
    }
   ],
   "source": [
    "hdu = fits.PrimaryHDU(nf)\n",
    "hdul = fits.HDUList([hdu])\n",
    "hdul.writeto('/home/ryan/projects/CHARMKASTR/test_fits/MedianNormFlat.fits')"
   ]
  },
  {
   "cell_type": "code",
   "execution_count": 8,
   "metadata": {},
   "outputs": [],
   "source": [
    "subtr = bias_subtract(f, b)"
   ]
  },
  {
   "cell_type": "code",
   "execution_count": 9,
   "metadata": {},
   "outputs": [
    {
     "data": {
      "text/plain": [
       "<matplotlib.image.AxesImage at 0x7f534e2dc7b8>"
      ]
     },
     "execution_count": 9,
     "metadata": {},
     "output_type": "execute_result"
    },
    {
     "data": {
      "image/png": "[encoded data removed]",
      "text/plain": [
       "<Figure size 432x288 with 1 Axes>"
      ]
     },
     "metadata": {
      "needs_background": "light"
     },
     "output_type": "display_data"
    }
   ],
   "source": [
    "plt.imshow(subtr)"
   ]
  },
  {
   "cell_type": "code",
   "execution_count": 10,
   "metadata": {},
   "outputs": [
    {
     "data": {
      "text/plain": [
       "<matplotlib.image.AxesImage at 0x7f534e3482e8>"
      ]
     },
     "execution_count": 10,
     "metadata": {},
     "output_type": "execute_result"
    },
    {
     "data": {
      "image/png": "[encoded data removed]",
      "text/plain": [
       "<Figure size 432x288 with 1 Axes>"
      ]
     },
     "metadata": {
      "needs_background": "light"
     },
     "output_type": "display_data"
    }
   ],
   "source": [
    "plt.imshow(m)"
   ]
  },
  {
   "cell_type": "code",
   "execution_count": 11,
   "metadata": {},
   "outputs": [
    {
     "data": {
      "text/plain": [
       "[<matplotlib.lines.Line2D at 0x7f534e1ae0b8>]"
      ]
     },
     "execution_count": 11,
     "metadata": {},
     "output_type": "execute_result"
    },
    {
     "data": {
      "image/png": "[encoded data removed]",
      "text/plain": [
       "<Figure size 432x288 with 1 Axes>"
      ]
     },
     "metadata": {
      "needs_background": "light"
     },
     "output_type": "display_data"
    }
   ],
   "source": [
    "plt.plot(np.median(subtr, axis=0))"
   ]
  },
  {
   "cell_type": "code",
   "execution_count": 12,
   "metadata": {},
   "outputs": [
    {
     "data": {
      "text/plain": [
       "[<matplotlib.lines.Line2D at 0x7f534e19d0f0>]"
      ]
     },
     "execution_count": 12,
     "metadata": {},
     "output_type": "execute_result"
    },
    {
     "data": {
      "image/png": "[encoded data removed]",
      "text/plain": [
       "<Figure size 432x288 with 1 Axes>"
      ]
     },
     "metadata": {
      "needs_background": "light"
     },
     "output_type": "display_data"
    }
   ],
   "source": [
    "plt.plot(np.median(subtr, axis=1))"
   ]
  },
  {
   "cell_type": "code",
   "execution_count": 13,
   "metadata": {},
   "outputs": [],
   "source": [
    "#where to cut off for the vertical plot ^\n",
    "#which read speed are we using for creating the variance image?"
   ]
  },
  {
   "cell_type": "code",
   "execution_count": 13,
   "metadata": {},
   "outputs": [],
   "source": [
    "ghdul = fits.open('/home/ryan/projects/CHARMKASTR/raw/data-2017-08-12-shane-Adam.Burgasser/red/test1035/science/r1033.fits')"
   ]
  },
  {
   "cell_type": "code",
   "execution_count": 14,
   "metadata": {},
   "outputs": [
    {
     "data": {
      "text/plain": [
       "<matplotlib.image.AxesImage at 0x7f534e11acc0>"
      ]
     },
     "execution_count": 14,
     "metadata": {},
     "output_type": "execute_result"
    },
    {
     "data": {
      "image/png": "[encoded data removed]",
      "text/plain": [
       "<Figure size 432x288 with 1 Axes>"
      ]
     },
     "metadata": {
      "needs_background": "light"
     },
     "output_type": "display_data"
    }
   ],
   "source": [
    "plt.imshow(ghdul[0].data)"
   ]
  },
  {
   "cell_type": "code",
   "execution_count": 24,
   "metadata": {},
   "outputs": [
    {
     "data": {
      "text/plain": [
       "SIMPLE  =                    T / NORMAL FITS IMAGE                              \n",
       "BITPIX  =                   16 / DATA PRECISION                                 \n",
       "NAXIS   =                    2 / NUMBER OF IMAGE DIMENSIONS                     \n",
       "NAXIS1  =                  575 / NUMBER OF COLUMNS                              \n",
       "NAXIS2  =                 2725 / NUMBER OF ROWS                                 \n",
       "CRVAL1U =                  420 / COLUMN ORIGIN                                  \n",
       "CRVAL2U =                 3400 / ROW ORIGIN                                     \n",
       "CDELT1U =                    1 / COLUMN CHANGE PER PIXEL                        \n",
       "CDELT2U =                   -1 / ROW CHANGE PER PIXEL                           \n",
       "OBSNUM  =                 1033 / OBSERVATION NUMBER                             \n",
       "IDNUM   =                    2 / IMAGE ID                                       \n",
       "UGEOM   =                    4 / UCAM READOUT GEOMETRY                          \n",
       "DGEOM   =                    4 / DESCRAMBLE GEOMETRY                            \n",
       "AMPSROW =                    2 / AMPLIFIERS PER ROW                             \n",
       "AMPSCOL =                    1 / AMPLIFIERS PER COLUMN                          \n",
       "OBSTYPE = 'OBJECT'             / IMAGE TYPE                                     \n",
       "EXPTIME =                   10 / Exp time (not counting shutter error)          \n",
       "BSCALE  =                    1 / DATA SCALE FACTOR                              \n",
       "BZERO   =                32768 / DATA ZERO POINT                                \n",
       "COMMENT    Real Value = FITS*BSCALE+BZERO                                       \n",
       "PROGRAM = 'NEWCAM'             / New Lick Camera                                \n",
       "VERSION = 'kastr'              / Data acquisition version                       \n",
       "TSEC    =           1502595960 / CLOCK TICK - SECONDS                           \n",
       "TUSEC   =               844164 / CLOCK TICK - MICROSECONDS                      \n",
       "DATE    = '2017-08-13T03:46:00.84' / UT of CCD readout & descramble             \n",
       "DATASEC = '[1:375,1:2725]'         / IRAF/NOAO-style data section               \n",
       "COMMENT End of cards hard-coded in fits_cards                                   \n",
       "COMMENT Begin of cards from other times                                         \n",
       "CSYER2  =     0.01666669920087 / systematic error along direction of WCS axis i \n",
       "CSYER1  =     0.01666669920087 / systematic error along direction of WCS axis i \n",
       "CRDER2  =   0.0001208000030601 / random error along direction of WCS axis i     \n",
       "CRDER1  =   0.0001208000030601 / random error along direction of WCS axis i     \n",
       "CD2_2   =   9.647520346334E-05 / CTM element i_j from FITS axis j to WCS axis i \n",
       "CD2_1   =  -7.269930210896E-05 / CTM element i_j from FITS axis j to WCS axis i \n",
       "CD1_2   =   7.269930210896E-05 / CTM element i_j from FITS axis j to WCS axis i \n",
       "CD1_1   =   9.647520346334E-05 / CTM element i_j from FITS axis j to WCS axis i \n",
       "CRVAL2  =       29.57194900513 / coord value of WCS axis i at ref pixel         \n",
       "CRVAL1  =        270.162109375 / coord value of WCS axis i at ref pixel         \n",
       "CRPIX2  =                 1308 / reference pixel along FITS axis j              \n",
       "CRPIX1  =                  204 / reference pixel along FITS axis j              \n",
       "CUNIT2  = 'deg               ' / unit of WCS axis i                             \n",
       "CUNIT1  = 'deg               ' / unit of WCS axis i                             \n",
       "EQUINOX =                 2000 / date of celestial reference frame              \n",
       "RADECSYS= 'FK5               ' / reference system for celestial coordinates     \n",
       "CNAME2  = 'Declination       ' / name of WCS axis i                             \n",
       "CNAME1  = 'Right Ascension   ' / name of WCS axis i                             \n",
       "CTYPE2  = 'DEC--TAN          ' / type of WCS axis i                             \n",
       "CTYPE1  = 'RA---TAN          ' / type of WCS axis i                             \n",
       "WCSNAME = 'Celestial coordinates' / name of WCS                                 \n",
       "CSYER2C =                    0 / systematic error along direction of WCS axis i \n",
       "CSYER1C =                    0 / systematic error along direction of WCS axis i \n",
       "CRDER2C =                    0 / random error along direction of WCS axis i     \n",
       "CRDER1C =                    0 / random error along direction of WCS axis i     \n",
       "CD2_2C  =                   -1 / CTM element i_j from FITS axis j to WCS axis i \n",
       "CD2_1C  =                    0 / CTM element i_j from FITS axis j to WCS axis i \n",
       "CD1_2C  =                    0 / CTM element i_j from FITS axis j to WCS axis i \n",
       "CD1_1C  =                    1 / CTM element i_j from FITS axis j to WCS axis i \n",
       "CRVAL2C =                 3400 / coord value of WCS axis i at ref pixel         \n",
       "CRVAL1C =                  420 / coord value of WCS axis i at ref pixel         \n",
       "CRPIX2C =                  0.5 / reference pixel along FITS axis j              \n",
       "CRPIX1C =                  0.5 / reference pixel along FITS axis j              \n",
       "CUNIT2C = 'CCDpix            ' / unit of WCS axis i                             \n",
       "CUNIT1C = 'CCDpix            ' / unit of WCS axis i                             \n",
       "CNAME2C = 'CCD Y pixel       ' / name of WCS axis i                             \n",
       "CNAME1C = 'CCD X pixel       ' / name of WCS axis i                             \n",
       "CTYPE2C = 'linear            ' / type of WCS axis i                             \n",
       "CTYPE1C = 'linear            ' / type of WCS axis i                             \n",
       "WCSNAMEC= 'CCD pixel coordinates' / name of WCS                                 \n",
       "CSYER2S =     0.01666669920087 / systematic error along direction of WCS axis i \n",
       "CSYER1S =     0.01666669920087 / systematic error along direction of WCS axis i \n",
       "CRDER2S =   0.0001208000030601 / random error along direction of WCS axis i     \n",
       "CRDER1S =   0.0001208000030601 / random error along direction of WCS axis i     \n",
       "CD2_2S  =   9.647520346334E-05 / CTM element i_j from FITS axis j to WCS axis i \n",
       "CD2_1S  =  -7.269930210896E-05 / CTM element i_j from FITS axis j to WCS axis i \n",
       "CD1_2S  =   7.269930210896E-05 / CTM element i_j from FITS axis j to WCS axis i \n",
       "CD1_1S  =   9.647520346334E-05 / CTM element i_j from FITS axis j to WCS axis i \n",
       "CRVAL2S =       29.57194900513 / coord value of WCS axis i at ref pixel         \n",
       "CRVAL1S =        270.162109375 / coord value of WCS axis i at ref pixel         \n",
       "CRPIX2S =                 1308 / reference pixel along FITS axis j              \n",
       "CRPIX1S =                  204 / reference pixel along FITS axis j              \n",
       "CUNIT2S = 'deg               ' / unit of WCS axis i                             \n",
       "CUNIT1S = 'deg               ' / unit of WCS axis i                             \n",
       "EQUINOXS=                 2000 / date of celestial reference frame              \n",
       "RADESYSS= 'FK5               ' / reference system for celestial coordinates     \n",
       "CNAME2S = 'Declination       ' / name of WCS axis i                             \n",
       "CNAME1S = 'Right Ascension   ' / name of WCS axis i                             \n",
       "CTYPE2S = 'DEC--TAN          ' / type of WCS axis i                             \n",
       "CTYPE1S = 'RA---TAN          ' / type of WCS axis i                             \n",
       "WCSNAMES= 'Celestial coordinates' / name of WCS                                 \n",
       "CAMERAID=                  140 / CAMERA ID NUMBER                               \n",
       "SUPBLUE =                    0 / Shane line lamp superblue level                \n",
       "OWNERID = '                  ' / OWNERID for archive data                       \n",
       "NSTIME  =                    0 / CONTROLS RISING TIME FOR SUBSTRATE             \n",
       "VSUBEX  =                  300 / SUBSTRATE VOLTAGE DURING EXPOSURE              \n",
       "VSUBER  =                    2 / SUBSTRATE VOLTAGE DURING ERASE                 \n",
       "TCPR1   =                   12 / PRE-IMAGE SERIAL PIXELS                        \n",
       "TSPRD   =                   40 / SAMPLE TIME IN 0.1 MICROSECOND UNITS           \n",
       "TSCLEAN =                   40 / SERIAL CLEAN SAMPLE TIME                       \n",
       "BINSCLN =                    0 / BINNING FOR SERIAL CLEAN                       \n",
       "NHBESP  =                   32 / BINNING FOR SPECIAL ERASE                      \n",
       "MERSP   =                    2 / CONTROLS SPECIAL ERASE MODE                    \n",
       "ERPBIN  =                    5 / PARALLEL BINNING DURING ERASE                  \n",
       "SFREQ   =                    2 / SERIAL CLOCK PERIOD                            \n",
       "CSELPRD =                    0 / PREREAD CLOCK SELECTION                        \n",
       "REVERASE=                    3 / NUMBER OF REVERSE ERASES                       \n",
       "BINPRD  =                    0 / PREREAD SERIAL BINNING                         \n",
       "PADDC   =                    0 / PARALLEL CLOCK CAPACITOR SELECTION             \n",
       "SADDC   =                    2 / SERIAL CLOCK CAP SELECTION                     \n",
       "GEOMCODE=                    0 / READOUT GEOMETRY                               \n",
       "DNAXIS1 =                 1024 / COLUMNS IN SENSOR                              \n",
       "DSENSOR = '2k x 4k Hamamatsu ' / SENSOR DESCRIPTION                             \n",
       "DNAXIS2 =                 4096 / ROWS IN SENSOR                                 \n",
       "UCAMSOFT= '4.08 060812       ' / UCAM SOFTWARE VERSION                          \n",
       "GRTILT_P=                11860 / GRATING TILT PHYSICAL POSITION                 \n",
       "GRISM_N = '600/4310          ' / GRISM POSITION NAME                            \n",
       "GRATNG_O=                    3 / GRATING POSITION ORDINAL NUMBER                \n",
       "BLFILT_O=                    1 / BLUE FILTER TRAY POSITION ORDINAL NUMBER       \n",
       "BLFILT_P=                10550 / BLUE FILTER TRAY PHYSICAL POSITION             \n",
       "WAVEPT_N= 'Home              ' / WAVEPLATE POSITION NAME                        \n",
       "GRISM_O =                    2 / GRISM POSITION ORDINAL NUMBER                  \n",
       "DECKER_P=                 -173 / DECKER PHYSICAL POSITION                       \n",
       "WAVEPT_P=                    0 / WAVEPLATE PHYSICAL POSITION                    \n",
       "LOFILT_O=                    1 / LOWER FILTER WHEEL POSITION ORDINAL NUMBER     \n",
       "LOFILT_P=                 5915 / LOWER FILTER WHEEL PHYSICAL POSITION           \n",
       "UPFILT_O=                    1 / UPPER FILTER WHEEL POSITION ORDINAL NUMBER     \n",
       "UPFILT_P=                 2319 / UPPER FILTER WHEEL PHYSICAL POSITION           \n",
       "SLIT_P  =                 3588 / SLIT PHYSICAL POSITION                         \n",
       "GRATNG_P=                -9300 / GRATING PHYSICAL POSITION                      \n",
       "RCOLIM_P=                -2458 / RED COLLIMATOR PHYSICAL POSITION               \n",
       "USFILT_O=                   -1 / USER FILTER WHEEL POSITION ORDINAL NUMBER      \n",
       "USFILT_P=                -1593 / USER FILTER WHEEL PHYSICAL POSITION            \n",
       "GRISM_P =                  100 / GRISM PHYSICAL POSITION                        \n",
       "BCOLIM_P=                 5951 / BLUE COLLIMATOR PHYSICAL POSITION              \n",
       "RDFILT_O=                    1 / RED FILTER WHEEL POSITION ORDINAL NUMBER       \n",
       "DECKER_N= 'Spect             ' / DECKER POSITION NAME                           \n",
       "OBSERVER= 'Theissen & Burgasser' / OBSERVER NAME                                \n",
       "ERASE   =                    3 / NUMBER OF ERASES                               \n",
       "SCLEAN  =                    0 / SERIAL CLEANING CLOCK SELECTION                \n",
       "CSMP    =                    1 / DCS CAP SELECTION                              \n",
       "PSKIP   =                    0 / CONTROLS POST-IMAGE SKIPPING                   \n",
       "PPRERD  =                    4 / PRE-IMAGE ROWS                                 \n",
       "PFREQ   =                    2 / PARALLEL CLOCK PERIOD                          \n",
       "TCPR2   =                    4 / POST-IMAGE SERIAL PIXELS BEFORE OVERSCAN       \n",
       "LAMPSTAA= 'off               ' / Shane line lamp #A status                      \n",
       "LAMPSTA5= 'off               ' / Shane flatfield lamp #5 status                 \n",
       "LAMPSTA4= 'off               ' / Shane flatfield lamp #4 status                 \n",
       "LAMPSTA3= 'off               ' / Shane flatfield lamp #3 status                 \n",
       "LAMPSTA2= 'off               ' / Shane flatfield lamp #2 status                 \n",
       "LAMPSTA1= 'off               ' / Shane flatfield lamp #1 status                 \n",
       "LAMPNAMK= 'Laser             ' / Shane line lamp #K name                        \n",
       "LAMPNAMJ= 'Neon              ' / Shane line lamp #J name                        \n",
       "LAMPNAMI= 'Spare9            ' / Shane line lamp #I name                        \n",
       "LAMPNAMH= 'Hg-A              ' / Shane line lamp #H name                        \n",
       "LAMPNAMG= 'Hg-Cd             ' / Shane line lamp #G name                        \n",
       "LAMPNAMF= 'He                ' / Shane line lamp #F name                        \n",
       "LAMPNAME= 'Dim_Neon          ' / Shane line lamp #E name                        \n",
       "LAMPNAMC= 'Spare3            ' / Shane line lamp #C name                        \n",
       "LAMPNAMB= 'Spare2            ' / Shane line lamp #B name                        \n",
       "LAMPNAMA= 'Spare1            ' / Shane line lamp #A name                        \n",
       "LAMPNAM5= 'Sup_Blue          ' / Shane flatfield lamp #5 name                   \n",
       "LAMPNAM4= 'Spare4            ' / Shane flatfield lamp #4 name                   \n",
       "LAMPNAM3= 'Spare3            ' / Shane flatfield lamp #3 name                   \n",
       "LAMPNAM2= 'Red               ' / Shane flatfield lamp #2 name                   \n",
       "LAMPNAM1= 'Blue              ' / Shane flatfield lamp #1 name                   \n",
       "RCOLIM_V=      -2.900000095367 / RED COLLIMATOR POSITION IN MM                  \n",
       "GRATNG_N= '600/7500          ' / GRATING POSITION NAME                          \n",
       "BLFILT_N= 'Open              ' / BLUE FILTER TRAY POSITION NAME                 \n",
       "BCOLIM_V=       23.39999961853 / BLUE COLLIMATOR POSITION IN MM                 \n",
       "LOFILT_N= 'Open              ' / LOWER FILTER WHEEL POSITION NAME               \n",
       "UPFILT_N= 'Open              ' / UPPER FILTER WHEEL POSITION NAME               \n",
       "SLIT_N  = '2.0 arcsec        ' / SLIT POSITION NAME                             \n",
       "BSPLIT_N= 'd57               ' / BEAM SPLITTER POSITION NAME                    \n",
       "USFILT_N= 'WaveplateOut      ' / USER FILTER WHEEL POSITION NAME                \n",
       "RDFILT_P=                  150 / RED FILTER WHEEL PHYSICAL POSITION             \n",
       "RDFILT_N= 'Open              ' / RED FILTER WHEEL POSITION NAME                 \n",
       "AIRMASS =        1.02999997139 / AIRMASS AT START OF OBSERVATION                \n",
       "LAMPNAMD= 'Spare_Ar          ' / Shane line lamp #D name                        \n",
       "TUB     =                  127 / TUB POSITION                                   \n",
       "BSPLIT_O= 'Yin               ' / BEAM SPLITTER POSITION                         \n",
       "WAVEPLT =                    0 / WAVE PLATE POSITION                            \n",
       "LAMPSTAK= 'off               ' / Shane line lamp #K status                      \n",
       "LAMPSTAJ= 'off               ' / Shane line lamp #J status                      \n",
       "LAMPSTAI= 'off               ' / Shane line lamp #I status                      \n",
       "LAMPSTAH= 'off               ' / Shane line lamp #H status                      \n",
       "LAMPSTAG= 'off               ' / Shane line lamp #G status                      \n",
       "LAMPSTAF= 'off               ' / Shane line lamp #F status                      \n",
       "LAMPSTAE= 'off               ' / Shane line lamp #E status                      \n",
       "LAMPSTAD= 'off               ' / Shane line lamp #D status                      \n",
       "LAMPSTAC= 'off               ' / Shane line lamp #C status                      \n",
       "LAMPSTAB= 'off               ' / Shane line lamp #B status                      \n",
       "HA      = '-0:54:30.70       ' / HOUR ANGLE                                     \n",
       "DEC     = '29:34:19.1        ' / DECLINATION                                    \n",
       "RA      = '18:00:38.91       ' / RIGHT ASCENSION                                \n",
       "DATE-OBS= '2017-08-13T03:45:50.52' / observation date (begin)                   \n",
       "DATE-BEG= '2017-08-13T03:45:50.52' / OBSERVATION BEGIN                          \n",
       "DATE-END= '2017-08-13T03:46:00.52' / OBSERVATION END                            \n",
       "OBJECT  = 'HD 164595         '                                                  \n",
       "GAIN    =                    1 / DCS GAIN INDEX                                 \n",
       "MPP     =                    0 / MPP STATE                                      \n",
       "OBSTYPE =                    1 / IMAGE TYPE                                     \n",
       "TEMPDET =      -103.6999969482 / EXPOSURE START DETECTOR TEMPERATURE            \n",
       "NCSHIFT =                    0 / NUMBER OF CHARGE SHUFFLES                      \n",
       "RCSHIFT =                    0 / NUMBER OF ROWS IN EACH CHARGE SHUFFLE          \n",
       "READ-SPD=                   40 / DCS READ SPEED                                 \n",
       "ROVER   =                    0 / NUMBER OF OVERSCAN ROWS                        \n",
       "COVER   =                  100 / NUMBER OF OVERSCAN COLUMNS                     \n",
       "TEMPDETE=                    0 / EXPOSURE END DETECTOR TEMPERATURE              \n",
       "TEMPCON =       36.90000152588 / CONTROLLER TEMPERATURE                         \n",
       "HEATER  =                    0 / HEATER VOLTAGE                                 \n",
       "CKSUMOK =                    T / cd: CHECKSUMS MATCH                            \n",
       "CAMCKSUM=                54012 / cd: CAMERA-COMPUTED CHECKSUM                   \n",
       "SFTCKSUM=                54012 / cd: SOFTWARE-COMPUTED CHECKSUM                 \n",
       "COMMENT End of cards from other times                                           "
      ]
     },
     "execution_count": 24,
     "metadata": {},
     "output_type": "execute_result"
    }
   ],
   "source": [
    "ghdul[0].header"
   ]
  },
  {
   "cell_type": "code",
   "execution_count": 25,
   "metadata": {},
   "outputs": [],
   "source": [
    "g_star = ghdul[0].data"
   ]
  },
  {
   "cell_type": "code",
   "execution_count": 26,
   "metadata": {},
   "outputs": [],
   "source": [
    "g_subtr = bias_subtract(g_star, b)"
   ]
  },
  {
   "cell_type": "code",
   "execution_count": 27,
   "metadata": {},
   "outputs": [],
   "source": [
    "g_var = variance_image(g_subtr)"
   ]
  },
  {
   "cell_type": "code",
   "execution_count": 19,
   "metadata": {
    "collapsed": true
   },
   "outputs": [
    {
     "ename": "OSError",
     "evalue": "File '/home/ryan/projects/CHARMKASTR/test_fits/r1033Variance.fits' already exists.",
     "output_type": "error",
     "traceback": [
      "\u001b[0;31m---------------------------------------------------------------------------\u001b[0m",
      "\u001b[0;31mOSError\u001b[0m                                   Traceback (most recent call last)",
      "\u001b[0;32m<ipython-input-19-512f9ef98652>\u001b[0m in \u001b[0;36m<module>\u001b[0;34m\u001b[0m\n\u001b[1;32m      1\u001b[0m \u001b[0mhdu\u001b[0m \u001b[0;34m=\u001b[0m \u001b[0mfits\u001b[0m\u001b[0;34m.\u001b[0m\u001b[0mPrimaryHDU\u001b[0m\u001b[0;34m(\u001b[0m\u001b[0mg_var\u001b[0m\u001b[0;34m)\u001b[0m\u001b[0;34m\u001b[0m\u001b[0m\n\u001b[1;32m      2\u001b[0m \u001b[0mhdul\u001b[0m \u001b[0;34m=\u001b[0m \u001b[0mfits\u001b[0m\u001b[0;34m.\u001b[0m\u001b[0mHDUList\u001b[0m\u001b[0;34m(\u001b[0m\u001b[0;34m[\u001b[0m\u001b[0mhdu\u001b[0m\u001b[0;34m]\u001b[0m\u001b[0;34m)\u001b[0m\u001b[0;34m\u001b[0m\u001b[0m\n\u001b[0;32m----> 3\u001b[0;31m \u001b[0mhdul\u001b[0m\u001b[0;34m.\u001b[0m\u001b[0mwriteto\u001b[0m\u001b[0;34m(\u001b[0m\u001b[0;34m'/home/ryan/projects/CHARMKASTR/test_fits/r1033Variance.fits'\u001b[0m\u001b[0;34m)\u001b[0m\u001b[0;34m\u001b[0m\u001b[0m\n\u001b[0m",
      "\u001b[0;32m~/anaconda3/lib/python3.6/site-packages/astropy/utils/decorators.py\u001b[0m in \u001b[0;36mwrapper\u001b[0;34m(*args, **kwargs)\u001b[0m\n\u001b[1;32m    486\u001b[0m                         \u001b[0;31m# one with the name of the new argument to the function\u001b[0m\u001b[0;34m\u001b[0m\u001b[0;34m\u001b[0m\u001b[0m\n\u001b[1;32m    487\u001b[0m                         \u001b[0mkwargs\u001b[0m\u001b[0;34m[\u001b[0m\u001b[0mnew_name\u001b[0m\u001b[0;34m[\u001b[0m\u001b[0mi\u001b[0m\u001b[0;34m]\u001b[0m\u001b[0;34m]\u001b[0m \u001b[0;34m=\u001b[0m \u001b[0mvalue\u001b[0m\u001b[0;34m\u001b[0m\u001b[0m\n\u001b[0;32m--> 488\u001b[0;31m             \u001b[0;32mreturn\u001b[0m \u001b[0mfunction\u001b[0m\u001b[0;34m(\u001b[0m\u001b[0;34m*\u001b[0m\u001b[0margs\u001b[0m\u001b[0;34m,\u001b[0m \u001b[0;34m**\u001b[0m\u001b[0mkwargs\u001b[0m\u001b[0;34m)\u001b[0m\u001b[0;34m\u001b[0m\u001b[0m\n\u001b[0m\u001b[1;32m    489\u001b[0m \u001b[0;34m\u001b[0m\u001b[0m\n\u001b[1;32m    490\u001b[0m         \u001b[0;32mreturn\u001b[0m \u001b[0mwrapper\u001b[0m\u001b[0;34m\u001b[0m\u001b[0m\n",
      "\u001b[0;32m~/anaconda3/lib/python3.6/site-packages/astropy/io/fits/hdu/hdulist.py\u001b[0m in \u001b[0;36mwriteto\u001b[0;34m(self, fileobj, output_verify, overwrite, checksum)\u001b[0m\n\u001b[1;32m    871\u001b[0m         \u001b[0;31m# file object that's open to write only, or in append/update modes\u001b[0m\u001b[0;34m\u001b[0m\u001b[0;34m\u001b[0m\u001b[0m\n\u001b[1;32m    872\u001b[0m         \u001b[0;31m# but only if the file doesn't exist.\u001b[0m\u001b[0;34m\u001b[0m\u001b[0;34m\u001b[0m\u001b[0m\n\u001b[0;32m--> 873\u001b[0;31m         \u001b[0mfileobj\u001b[0m \u001b[0;34m=\u001b[0m \u001b[0m_File\u001b[0m\u001b[0;34m(\u001b[0m\u001b[0mfileobj\u001b[0m\u001b[0;34m,\u001b[0m \u001b[0mmode\u001b[0m\u001b[0;34m=\u001b[0m\u001b[0;34m'ostream'\u001b[0m\u001b[0;34m,\u001b[0m \u001b[0moverwrite\u001b[0m\u001b[0;34m=\u001b[0m\u001b[0moverwrite\u001b[0m\u001b[0;34m)\u001b[0m\u001b[0;34m\u001b[0m\u001b[0m\n\u001b[0m\u001b[1;32m    874\u001b[0m         \u001b[0mhdulist\u001b[0m \u001b[0;34m=\u001b[0m \u001b[0mself\u001b[0m\u001b[0;34m.\u001b[0m\u001b[0mfromfile\u001b[0m\u001b[0;34m(\u001b[0m\u001b[0mfileobj\u001b[0m\u001b[0;34m)\u001b[0m\u001b[0;34m\u001b[0m\u001b[0m\n\u001b[1;32m    875\u001b[0m         \u001b[0;32mtry\u001b[0m\u001b[0;34m:\u001b[0m\u001b[0;34m\u001b[0m\u001b[0m\n",
      "\u001b[0;32m~/anaconda3/lib/python3.6/site-packages/astropy/utils/decorators.py\u001b[0m in \u001b[0;36mwrapper\u001b[0;34m(*args, **kwargs)\u001b[0m\n\u001b[1;32m    486\u001b[0m                         \u001b[0;31m# one with the name of the new argument to the function\u001b[0m\u001b[0;34m\u001b[0m\u001b[0;34m\u001b[0m\u001b[0m\n\u001b[1;32m    487\u001b[0m                         \u001b[0mkwargs\u001b[0m\u001b[0;34m[\u001b[0m\u001b[0mnew_name\u001b[0m\u001b[0;34m[\u001b[0m\u001b[0mi\u001b[0m\u001b[0;34m]\u001b[0m\u001b[0;34m]\u001b[0m \u001b[0;34m=\u001b[0m \u001b[0mvalue\u001b[0m\u001b[0;34m\u001b[0m\u001b[0m\n\u001b[0;32m--> 488\u001b[0;31m             \u001b[0;32mreturn\u001b[0m \u001b[0mfunction\u001b[0m\u001b[0;34m(\u001b[0m\u001b[0;34m*\u001b[0m\u001b[0margs\u001b[0m\u001b[0;34m,\u001b[0m \u001b[0;34m**\u001b[0m\u001b[0mkwargs\u001b[0m\u001b[0;34m)\u001b[0m\u001b[0;34m\u001b[0m\u001b[0m\n\u001b[0m\u001b[1;32m    489\u001b[0m \u001b[0;34m\u001b[0m\u001b[0m\n\u001b[1;32m    490\u001b[0m         \u001b[0;32mreturn\u001b[0m \u001b[0mwrapper\u001b[0m\u001b[0;34m\u001b[0m\u001b[0m\n",
      "\u001b[0;32m~/anaconda3/lib/python3.6/site-packages/astropy/io/fits/file.py\u001b[0m in \u001b[0;36m__init__\u001b[0;34m(self, fileobj, mode, memmap, overwrite, cache)\u001b[0m\n\u001b[1;32m    173\u001b[0m             \u001b[0mself\u001b[0m\u001b[0;34m.\u001b[0m\u001b[0m_open_fileobj\u001b[0m\u001b[0;34m(\u001b[0m\u001b[0mfileobj\u001b[0m\u001b[0;34m,\u001b[0m \u001b[0mmode\u001b[0m\u001b[0;34m,\u001b[0m \u001b[0moverwrite\u001b[0m\u001b[0;34m)\u001b[0m\u001b[0;34m\u001b[0m\u001b[0m\n\u001b[1;32m    174\u001b[0m         \u001b[0;32melif\u001b[0m \u001b[0misinstance\u001b[0m\u001b[0;34m(\u001b[0m\u001b[0mfileobj\u001b[0m\u001b[0;34m,\u001b[0m \u001b[0mstr\u001b[0m\u001b[0;34m)\u001b[0m\u001b[0;34m:\u001b[0m\u001b[0;34m\u001b[0m\u001b[0m\n\u001b[0;32m--> 175\u001b[0;31m             \u001b[0mself\u001b[0m\u001b[0;34m.\u001b[0m\u001b[0m_open_filename\u001b[0m\u001b[0;34m(\u001b[0m\u001b[0mfileobj\u001b[0m\u001b[0;34m,\u001b[0m \u001b[0mmode\u001b[0m\u001b[0;34m,\u001b[0m \u001b[0moverwrite\u001b[0m\u001b[0;34m)\u001b[0m\u001b[0;34m\u001b[0m\u001b[0m\n\u001b[0m\u001b[1;32m    176\u001b[0m         \u001b[0;32melse\u001b[0m\u001b[0;34m:\u001b[0m\u001b[0;34m\u001b[0m\u001b[0m\n\u001b[1;32m    177\u001b[0m             \u001b[0mself\u001b[0m\u001b[0;34m.\u001b[0m\u001b[0m_open_filelike\u001b[0m\u001b[0;34m(\u001b[0m\u001b[0mfileobj\u001b[0m\u001b[0;34m,\u001b[0m \u001b[0mmode\u001b[0m\u001b[0;34m,\u001b[0m \u001b[0moverwrite\u001b[0m\u001b[0;34m)\u001b[0m\u001b[0;34m\u001b[0m\u001b[0m\n",
      "\u001b[0;32m~/anaconda3/lib/python3.6/site-packages/astropy/io/fits/file.py\u001b[0m in \u001b[0;36m_open_filename\u001b[0;34m(self, filename, mode, overwrite)\u001b[0m\n\u001b[1;32m    518\u001b[0m \u001b[0;34m\u001b[0m\u001b[0m\n\u001b[1;32m    519\u001b[0m         \u001b[0;32mif\u001b[0m \u001b[0mmode\u001b[0m \u001b[0;34m==\u001b[0m \u001b[0;34m'ostream'\u001b[0m\u001b[0;34m:\u001b[0m\u001b[0;34m\u001b[0m\u001b[0m\n\u001b[0;32m--> 520\u001b[0;31m             \u001b[0mself\u001b[0m\u001b[0;34m.\u001b[0m\u001b[0m_overwrite_existing\u001b[0m\u001b[0;34m(\u001b[0m\u001b[0moverwrite\u001b[0m\u001b[0;34m,\u001b[0m \u001b[0;32mNone\u001b[0m\u001b[0;34m,\u001b[0m \u001b[0;32mTrue\u001b[0m\u001b[0;34m)\u001b[0m\u001b[0;34m\u001b[0m\u001b[0m\n\u001b[0m\u001b[1;32m    521\u001b[0m \u001b[0;34m\u001b[0m\u001b[0m\n\u001b[1;32m    522\u001b[0m         \u001b[0;32mif\u001b[0m \u001b[0mos\u001b[0m\u001b[0;34m.\u001b[0m\u001b[0mpath\u001b[0m\u001b[0;34m.\u001b[0m\u001b[0mexists\u001b[0m\u001b[0;34m(\u001b[0m\u001b[0mself\u001b[0m\u001b[0;34m.\u001b[0m\u001b[0mname\u001b[0m\u001b[0;34m)\u001b[0m\u001b[0;34m:\u001b[0m\u001b[0;34m\u001b[0m\u001b[0m\n",
      "\u001b[0;32m~/anaconda3/lib/python3.6/site-packages/astropy/io/fits/file.py\u001b[0m in \u001b[0;36m_overwrite_existing\u001b[0;34m(self, overwrite, fileobj, closed)\u001b[0m\n\u001b[1;32m    412\u001b[0m                     \u001b[0mos\u001b[0m\u001b[0;34m.\u001b[0m\u001b[0mremove\u001b[0m\u001b[0;34m(\u001b[0m\u001b[0mself\u001b[0m\u001b[0;34m.\u001b[0m\u001b[0mname\u001b[0m\u001b[0;34m)\u001b[0m\u001b[0;34m\u001b[0m\u001b[0m\n\u001b[1;32m    413\u001b[0m             \u001b[0;32melse\u001b[0m\u001b[0;34m:\u001b[0m\u001b[0;34m\u001b[0m\u001b[0m\n\u001b[0;32m--> 414\u001b[0;31m                 \u001b[0;32mraise\u001b[0m \u001b[0mOSError\u001b[0m\u001b[0;34m(\u001b[0m\u001b[0;34m\"File {!r} already exists.\"\u001b[0m\u001b[0;34m.\u001b[0m\u001b[0mformat\u001b[0m\u001b[0;34m(\u001b[0m\u001b[0mself\u001b[0m\u001b[0;34m.\u001b[0m\u001b[0mname\u001b[0m\u001b[0;34m)\u001b[0m\u001b[0;34m)\u001b[0m\u001b[0;34m\u001b[0m\u001b[0m\n\u001b[0m\u001b[1;32m    415\u001b[0m \u001b[0;34m\u001b[0m\u001b[0m\n\u001b[1;32m    416\u001b[0m     \u001b[0;32mdef\u001b[0m \u001b[0m_try_read_compressed\u001b[0m\u001b[0;34m(\u001b[0m\u001b[0mself\u001b[0m\u001b[0;34m,\u001b[0m \u001b[0mobj_or_name\u001b[0m\u001b[0;34m,\u001b[0m \u001b[0mmagic\u001b[0m\u001b[0;34m,\u001b[0m \u001b[0mmode\u001b[0m\u001b[0;34m,\u001b[0m \u001b[0mext\u001b[0m\u001b[0;34m=\u001b[0m\u001b[0;34m''\u001b[0m\u001b[0;34m)\u001b[0m\u001b[0;34m:\u001b[0m\u001b[0;34m\u001b[0m\u001b[0m\n",
      "\u001b[0;31mOSError\u001b[0m: File '/home/ryan/projects/CHARMKASTR/test_fits/r1033Variance.fits' already exists."
     ]
    }
   ],
   "source": [
    "hdu = fits.PrimaryHDU(g_var)\n",
    "hdul = fits.HDUList([hdu])\n",
    "hdul.writeto('/home/ryan/projects/CHARMKASTR/test_fits/r1033Variance.fits')"
   ]
  },
  {
   "cell_type": "code",
   "execution_count": 34,
   "metadata": {},
   "outputs": [],
   "source": [
    "#order of magnitude expected for the G star variance?"
   ]
  },
  {
   "cell_type": "code",
   "execution_count": 28,
   "metadata": {},
   "outputs": [],
   "source": [
    "g_norm = g_subtr / nf"
   ]
  },
  {
   "cell_type": "code",
   "execution_count": 29,
   "metadata": {
    "collapsed": true
   },
   "outputs": [
    {
     "ename": "OSError",
     "evalue": "File '/home/ryan/projects/CHARMKASTR/test_fits/r1033Normalized.fits' already exists.",
     "output_type": "error",
     "traceback": [
      "\u001b[0;31m---------------------------------------------------------------------------\u001b[0m",
      "\u001b[0;31mOSError\u001b[0m                                   Traceback (most recent call last)",
      "\u001b[0;32m<ipython-input-29-85a8f3f54e16>\u001b[0m in \u001b[0;36m<module>\u001b[0;34m\u001b[0m\n\u001b[1;32m      1\u001b[0m \u001b[0mhdu\u001b[0m \u001b[0;34m=\u001b[0m \u001b[0mfits\u001b[0m\u001b[0;34m.\u001b[0m\u001b[0mPrimaryHDU\u001b[0m\u001b[0;34m(\u001b[0m\u001b[0mg_norm\u001b[0m\u001b[0;34m)\u001b[0m\u001b[0;34m\u001b[0m\u001b[0m\n\u001b[1;32m      2\u001b[0m \u001b[0mhdul\u001b[0m \u001b[0;34m=\u001b[0m \u001b[0mfits\u001b[0m\u001b[0;34m.\u001b[0m\u001b[0mHDUList\u001b[0m\u001b[0;34m(\u001b[0m\u001b[0;34m[\u001b[0m\u001b[0mhdu\u001b[0m\u001b[0;34m]\u001b[0m\u001b[0;34m)\u001b[0m\u001b[0;34m\u001b[0m\u001b[0m\n\u001b[0;32m----> 3\u001b[0;31m \u001b[0mhdul\u001b[0m\u001b[0;34m.\u001b[0m\u001b[0mwriteto\u001b[0m\u001b[0;34m(\u001b[0m\u001b[0;34m'/home/ryan/projects/CHARMKASTR/test_fits/r1033Normalized.fits'\u001b[0m\u001b[0;34m)\u001b[0m\u001b[0;34m\u001b[0m\u001b[0m\n\u001b[0m",
      "\u001b[0;32m~/anaconda3/lib/python3.6/site-packages/astropy/utils/decorators.py\u001b[0m in \u001b[0;36mwrapper\u001b[0;34m(*args, **kwargs)\u001b[0m\n\u001b[1;32m    486\u001b[0m                         \u001b[0;31m# one with the name of the new argument to the function\u001b[0m\u001b[0;34m\u001b[0m\u001b[0;34m\u001b[0m\u001b[0m\n\u001b[1;32m    487\u001b[0m                         \u001b[0mkwargs\u001b[0m\u001b[0;34m[\u001b[0m\u001b[0mnew_name\u001b[0m\u001b[0;34m[\u001b[0m\u001b[0mi\u001b[0m\u001b[0;34m]\u001b[0m\u001b[0;34m]\u001b[0m \u001b[0;34m=\u001b[0m \u001b[0mvalue\u001b[0m\u001b[0;34m\u001b[0m\u001b[0m\n\u001b[0;32m--> 488\u001b[0;31m             \u001b[0;32mreturn\u001b[0m \u001b[0mfunction\u001b[0m\u001b[0;34m(\u001b[0m\u001b[0;34m*\u001b[0m\u001b[0margs\u001b[0m\u001b[0;34m,\u001b[0m \u001b[0;34m**\u001b[0m\u001b[0mkwargs\u001b[0m\u001b[0;34m)\u001b[0m\u001b[0;34m\u001b[0m\u001b[0m\n\u001b[0m\u001b[1;32m    489\u001b[0m \u001b[0;34m\u001b[0m\u001b[0m\n\u001b[1;32m    490\u001b[0m         \u001b[0;32mreturn\u001b[0m \u001b[0mwrapper\u001b[0m\u001b[0;34m\u001b[0m\u001b[0m\n",
      "\u001b[0;32m~/anaconda3/lib/python3.6/site-packages/astropy/io/fits/hdu/hdulist.py\u001b[0m in \u001b[0;36mwriteto\u001b[0;34m(self, fileobj, output_verify, overwrite, checksum)\u001b[0m\n\u001b[1;32m    871\u001b[0m         \u001b[0;31m# file object that's open to write only, or in append/update modes\u001b[0m\u001b[0;34m\u001b[0m\u001b[0;34m\u001b[0m\u001b[0m\n\u001b[1;32m    872\u001b[0m         \u001b[0;31m# but only if the file doesn't exist.\u001b[0m\u001b[0;34m\u001b[0m\u001b[0;34m\u001b[0m\u001b[0m\n\u001b[0;32m--> 873\u001b[0;31m         \u001b[0mfileobj\u001b[0m \u001b[0;34m=\u001b[0m \u001b[0m_File\u001b[0m\u001b[0;34m(\u001b[0m\u001b[0mfileobj\u001b[0m\u001b[0;34m,\u001b[0m \u001b[0mmode\u001b[0m\u001b[0;34m=\u001b[0m\u001b[0;34m'ostream'\u001b[0m\u001b[0;34m,\u001b[0m \u001b[0moverwrite\u001b[0m\u001b[0;34m=\u001b[0m\u001b[0moverwrite\u001b[0m\u001b[0;34m)\u001b[0m\u001b[0;34m\u001b[0m\u001b[0m\n\u001b[0m\u001b[1;32m    874\u001b[0m         \u001b[0mhdulist\u001b[0m \u001b[0;34m=\u001b[0m \u001b[0mself\u001b[0m\u001b[0;34m.\u001b[0m\u001b[0mfromfile\u001b[0m\u001b[0;34m(\u001b[0m\u001b[0mfileobj\u001b[0m\u001b[0;34m)\u001b[0m\u001b[0;34m\u001b[0m\u001b[0m\n\u001b[1;32m    875\u001b[0m         \u001b[0;32mtry\u001b[0m\u001b[0;34m:\u001b[0m\u001b[0;34m\u001b[0m\u001b[0m\n",
      "\u001b[0;32m~/anaconda3/lib/python3.6/site-packages/astropy/utils/decorators.py\u001b[0m in \u001b[0;36mwrapper\u001b[0;34m(*args, **kwargs)\u001b[0m\n\u001b[1;32m    486\u001b[0m                         \u001b[0;31m# one with the name of the new argument to the function\u001b[0m\u001b[0;34m\u001b[0m\u001b[0;34m\u001b[0m\u001b[0m\n\u001b[1;32m    487\u001b[0m                         \u001b[0mkwargs\u001b[0m\u001b[0;34m[\u001b[0m\u001b[0mnew_name\u001b[0m\u001b[0;34m[\u001b[0m\u001b[0mi\u001b[0m\u001b[0;34m]\u001b[0m\u001b[0;34m]\u001b[0m \u001b[0;34m=\u001b[0m \u001b[0mvalue\u001b[0m\u001b[0;34m\u001b[0m\u001b[0m\n\u001b[0;32m--> 488\u001b[0;31m             \u001b[0;32mreturn\u001b[0m \u001b[0mfunction\u001b[0m\u001b[0;34m(\u001b[0m\u001b[0;34m*\u001b[0m\u001b[0margs\u001b[0m\u001b[0;34m,\u001b[0m \u001b[0;34m**\u001b[0m\u001b[0mkwargs\u001b[0m\u001b[0;34m)\u001b[0m\u001b[0;34m\u001b[0m\u001b[0m\n\u001b[0m\u001b[1;32m    489\u001b[0m \u001b[0;34m\u001b[0m\u001b[0m\n\u001b[1;32m    490\u001b[0m         \u001b[0;32mreturn\u001b[0m \u001b[0mwrapper\u001b[0m\u001b[0;34m\u001b[0m\u001b[0m\n",
      "\u001b[0;32m~/anaconda3/lib/python3.6/site-packages/astropy/io/fits/file.py\u001b[0m in \u001b[0;36m__init__\u001b[0;34m(self, fileobj, mode, memmap, overwrite, cache)\u001b[0m\n\u001b[1;32m    173\u001b[0m             \u001b[0mself\u001b[0m\u001b[0;34m.\u001b[0m\u001b[0m_open_fileobj\u001b[0m\u001b[0;34m(\u001b[0m\u001b[0mfileobj\u001b[0m\u001b[0;34m,\u001b[0m \u001b[0mmode\u001b[0m\u001b[0;34m,\u001b[0m \u001b[0moverwrite\u001b[0m\u001b[0;34m)\u001b[0m\u001b[0;34m\u001b[0m\u001b[0m\n\u001b[1;32m    174\u001b[0m         \u001b[0;32melif\u001b[0m \u001b[0misinstance\u001b[0m\u001b[0;34m(\u001b[0m\u001b[0mfileobj\u001b[0m\u001b[0;34m,\u001b[0m \u001b[0mstr\u001b[0m\u001b[0;34m)\u001b[0m\u001b[0;34m:\u001b[0m\u001b[0;34m\u001b[0m\u001b[0m\n\u001b[0;32m--> 175\u001b[0;31m             \u001b[0mself\u001b[0m\u001b[0;34m.\u001b[0m\u001b[0m_open_filename\u001b[0m\u001b[0;34m(\u001b[0m\u001b[0mfileobj\u001b[0m\u001b[0;34m,\u001b[0m \u001b[0mmode\u001b[0m\u001b[0;34m,\u001b[0m \u001b[0moverwrite\u001b[0m\u001b[0;34m)\u001b[0m\u001b[0;34m\u001b[0m\u001b[0m\n\u001b[0m\u001b[1;32m    176\u001b[0m         \u001b[0;32melse\u001b[0m\u001b[0;34m:\u001b[0m\u001b[0;34m\u001b[0m\u001b[0m\n\u001b[1;32m    177\u001b[0m             \u001b[0mself\u001b[0m\u001b[0;34m.\u001b[0m\u001b[0m_open_filelike\u001b[0m\u001b[0;34m(\u001b[0m\u001b[0mfileobj\u001b[0m\u001b[0;34m,\u001b[0m \u001b[0mmode\u001b[0m\u001b[0;34m,\u001b[0m \u001b[0moverwrite\u001b[0m\u001b[0;34m)\u001b[0m\u001b[0;34m\u001b[0m\u001b[0m\n",
      "\u001b[0;32m~/anaconda3/lib/python3.6/site-packages/astropy/io/fits/file.py\u001b[0m in \u001b[0;36m_open_filename\u001b[0;34m(self, filename, mode, overwrite)\u001b[0m\n\u001b[1;32m    518\u001b[0m \u001b[0;34m\u001b[0m\u001b[0m\n\u001b[1;32m    519\u001b[0m         \u001b[0;32mif\u001b[0m \u001b[0mmode\u001b[0m \u001b[0;34m==\u001b[0m \u001b[0;34m'ostream'\u001b[0m\u001b[0;34m:\u001b[0m\u001b[0;34m\u001b[0m\u001b[0m\n\u001b[0;32m--> 520\u001b[0;31m             \u001b[0mself\u001b[0m\u001b[0;34m.\u001b[0m\u001b[0m_overwrite_existing\u001b[0m\u001b[0;34m(\u001b[0m\u001b[0moverwrite\u001b[0m\u001b[0;34m,\u001b[0m \u001b[0;32mNone\u001b[0m\u001b[0;34m,\u001b[0m \u001b[0;32mTrue\u001b[0m\u001b[0;34m)\u001b[0m\u001b[0;34m\u001b[0m\u001b[0m\n\u001b[0m\u001b[1;32m    521\u001b[0m \u001b[0;34m\u001b[0m\u001b[0m\n\u001b[1;32m    522\u001b[0m         \u001b[0;32mif\u001b[0m \u001b[0mos\u001b[0m\u001b[0;34m.\u001b[0m\u001b[0mpath\u001b[0m\u001b[0;34m.\u001b[0m\u001b[0mexists\u001b[0m\u001b[0;34m(\u001b[0m\u001b[0mself\u001b[0m\u001b[0;34m.\u001b[0m\u001b[0mname\u001b[0m\u001b[0;34m)\u001b[0m\u001b[0;34m:\u001b[0m\u001b[0;34m\u001b[0m\u001b[0m\n",
      "\u001b[0;32m~/anaconda3/lib/python3.6/site-packages/astropy/io/fits/file.py\u001b[0m in \u001b[0;36m_overwrite_existing\u001b[0;34m(self, overwrite, fileobj, closed)\u001b[0m\n\u001b[1;32m    412\u001b[0m                     \u001b[0mos\u001b[0m\u001b[0;34m.\u001b[0m\u001b[0mremove\u001b[0m\u001b[0;34m(\u001b[0m\u001b[0mself\u001b[0m\u001b[0;34m.\u001b[0m\u001b[0mname\u001b[0m\u001b[0;34m)\u001b[0m\u001b[0;34m\u001b[0m\u001b[0m\n\u001b[1;32m    413\u001b[0m             \u001b[0;32melse\u001b[0m\u001b[0;34m:\u001b[0m\u001b[0;34m\u001b[0m\u001b[0m\n\u001b[0;32m--> 414\u001b[0;31m                 \u001b[0;32mraise\u001b[0m \u001b[0mOSError\u001b[0m\u001b[0;34m(\u001b[0m\u001b[0;34m\"File {!r} already exists.\"\u001b[0m\u001b[0;34m.\u001b[0m\u001b[0mformat\u001b[0m\u001b[0;34m(\u001b[0m\u001b[0mself\u001b[0m\u001b[0;34m.\u001b[0m\u001b[0mname\u001b[0m\u001b[0;34m)\u001b[0m\u001b[0;34m)\u001b[0m\u001b[0;34m\u001b[0m\u001b[0m\n\u001b[0m\u001b[1;32m    415\u001b[0m \u001b[0;34m\u001b[0m\u001b[0m\n\u001b[1;32m    416\u001b[0m     \u001b[0;32mdef\u001b[0m \u001b[0m_try_read_compressed\u001b[0m\u001b[0;34m(\u001b[0m\u001b[0mself\u001b[0m\u001b[0;34m,\u001b[0m \u001b[0mobj_or_name\u001b[0m\u001b[0;34m,\u001b[0m \u001b[0mmagic\u001b[0m\u001b[0;34m,\u001b[0m \u001b[0mmode\u001b[0m\u001b[0;34m,\u001b[0m \u001b[0mext\u001b[0m\u001b[0;34m=\u001b[0m\u001b[0;34m''\u001b[0m\u001b[0;34m)\u001b[0m\u001b[0;34m:\u001b[0m\u001b[0;34m\u001b[0m\u001b[0m\n",
      "\u001b[0;31mOSError\u001b[0m: File '/home/ryan/projects/CHARMKASTR/test_fits/r1033Normalized.fits' already exists."
     ]
    }
   ],
   "source": [
    "hdu = fits.PrimaryHDU(g_norm)\n",
    "hdul = fits.HDUList([hdu])\n",
    "hdul.writeto('/home/ryan/projects/CHARMKASTR/test_fits/r1033Normalized.fits')"
   ]
  },
  {
   "cell_type": "code",
   "execution_count": 41,
   "metadata": {},
   "outputs": [],
   "source": [
    "#again, order of magnitude expected?"
   ]
  },
  {
   "cell_type": "code",
   "execution_count": 30,
   "metadata": {},
   "outputs": [],
   "source": [
    "g_median = np.median(g_norm)"
   ]
  },
  {
   "cell_type": "code",
   "execution_count": 31,
   "metadata": {},
   "outputs": [],
   "source": [
    "g_masked = copy.deepcopy(g_norm)\n",
    "\n",
    "for i in range (g_masked.shape[0]):\n",
    "    for j in range(g_masked.shape[1]):\n",
    "        if m[i][j] == 1:\n",
    "            g_masked[i][j] = g_median\n",
    "            "
   ]
  },
  {
   "cell_type": "code",
   "execution_count": 32,
   "metadata": {},
   "outputs": [
    {
     "data": {
      "text/plain": [
       "<matplotlib.image.AxesImage at 0x7f534c18e0b8>"
      ]
     },
     "execution_count": 32,
     "metadata": {},
     "output_type": "execute_result"
    },
    {
     "data": {
      "image/png": "[encoded data removed]",
      "text/plain": [
       "<Figure size 432x288 with 1 Axes>"
      ]
     },
     "metadata": {
      "needs_background": "light"
     },
     "output_type": "display_data"
    }
   ],
   "source": [
    "plt.imshow(g_masked)"
   ]
  },
  {
   "cell_type": "code",
   "execution_count": 33,
   "metadata": {},
   "outputs": [],
   "source": [
    "hdu = fits.PrimaryHDU(g_masked)\n",
    "hdul = fits.HDUList([hdu])\n",
    "hdul.writeto('/home/ryan/projects/CHARMKASTR/test_fits/r1033Masked1.fits')"
   ]
  },
  {
   "cell_type": "code",
   "execution_count": 76,
   "metadata": {},
   "outputs": [
    {
     "data": {
      "text/plain": [
       "array([118.30345691,  92.49643245, 113.28374484,  97.54558216,\n",
       "       116.62125619, 143.89188128, 126.93711525, 119.3371778 ,\n",
       "       105.33684956, 126.45427729])"
      ]
     },
     "execution_count": 76,
     "metadata": {},
     "output_type": "execute_result"
    }
   ],
   "source": [
    "g_masked[255,:][132:142]"
   ]
  },
  {
   "cell_type": "code",
   "execution_count": 43,
   "metadata": {},
   "outputs": [
    {
     "data": {
      "text/plain": [
       "[<matplotlib.lines.Line2D at 0x7f534c171080>]"
      ]
     },
     "execution_count": 43,
     "metadata": {},
     "output_type": "execute_result"
    },
    {
     "data": {
      "image/png": "[encoded data removed]",
      "text/plain": [
       "<Figure size 432x288 with 1 Axes>"
      ]
     },
     "metadata": {
      "needs_background": "light"
     },
     "output_type": "display_data"
    }
   ],
   "source": [
    "plt.plot(xpeak)"
   ]
  },
  {
   "cell_type": "code",
   "execution_count": 61,
   "metadata": {},
   "outputs": [],
   "source": [
    "xpk = np.argmax(g_masked, axis=1)"
   ]
  },
  {
   "cell_type": "code",
   "execution_count": 62,
   "metadata": {},
   "outputs": [
    {
     "data": {
      "text/plain": [
       "[<matplotlib.lines.Line2D at 0x7f534c053ac8>]"
      ]
     },
     "execution_count": 62,
     "metadata": {},
     "output_type": "execute_result"
    },
    {
     "data": {
      "image/png": "[encoded data removed]",
      "text/plain": [
       "<Figure size 432x288 with 1 Axes>"
      ]
     },
     "metadata": {
      "needs_background": "light"
     },
     "output_type": "display_data"
    }
   ],
   "source": [
    "plt.plot(xpk)"
   ]
  },
  {
   "cell_type": "code",
   "execution_count": null,
   "metadata": {},
   "outputs": [],
   "source": []
  }
 ],
 "metadata": {
  "kernelspec": {
   "display_name": "Python 3",
   "language": "python",
   "name": "python3"
  },
  "language_info": {
   "codemirror_mode": {
    "name": "ipython",
    "version": 3
   },
   "file_extension": ".py",
   "mimetype": "text/x-python",
   "name": "python",
   "nbconvert_exporter": "python",
   "pygments_lexer": "ipython3",
   "version": "3.6.6"
  }
 },
 "nbformat": 4,
 "nbformat_minor": 2
}
